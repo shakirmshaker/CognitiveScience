{
 "cells": [
  {
   "cell_type": "code",
   "execution_count": 3,
   "metadata": {},
   "outputs": [
    {
     "data": {
      "text/plain": [
       "9.870560026624064"
      ]
     },
     "execution_count": 3,
     "metadata": {},
     "output_type": "execute_result"
    }
   ],
   "source": [
    "from statsmodels.stats.power import FTestAnovaPower\n",
    "\n",
    "# Assumptions for post-hoc power analysis\n",
    "\n",
    "alpha = 0.05  # Common alpha level\n",
    "effect_size = 0.25  # Small to medium effect size (typical in behavioral sciences)\n",
    "n_groups = 3  # Three noise conditions (brown, pink, silence)\n",
    "sample_size = 13  # Total number of participants\n",
    "\n",
    "# Calculate the power\n",
    "power_analysis = FTestAnovaPower()\n",
    "power = power_analysis.solve_power(effect_size=effect_size, nobs=sample_size, alpha=alpha, k_groups=n_groups)\n",
    "\n",
    "power*100"
   ]
  },
  {
   "cell_type": "markdown",
   "metadata": {},
   "source": [
    "The post-hoc power analysis for your study, assuming a small to medium effect size (0.25), with 13 participants and three noise conditions (brown, pink, silence), at an alpha level of 0.05, yields a power of approximately 0.099.\n",
    "\n",
    "This means there is only about a 9.9% chance of detecting an effect of this size, given your sample size and experimental design. In other words, the study is underpowered for detecting small to medium effects. Generally, a power of 0.80 (or 80%) is considered adequate, implying a 20% chance of a Type II error (failing to detect a true effect).\n",
    "\n",
    "The low power suggests that the study might not have been able to reliably detect small or medium effects of noise conditions on cognitive performance. To increase the power in future studies, you would need to increase the sample size or adjust other aspects of the experimental design (like reducing variability or increasing the effect size)."
   ]
  }
 ],
 "metadata": {
  "kernelspec": {
   "display_name": "Python 3",
   "language": "python",
   "name": "python3"
  },
  "language_info": {
   "codemirror_mode": {
    "name": "ipython",
    "version": 3
   },
   "file_extension": ".py",
   "mimetype": "text/x-python",
   "name": "python",
   "nbconvert_exporter": "python",
   "pygments_lexer": "ipython3",
   "version": "3.11.5"
  }
 },
 "nbformat": 4,
 "nbformat_minor": 2
}
